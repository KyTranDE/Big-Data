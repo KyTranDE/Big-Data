{
 "cells": [
  {
   "cell_type": "code",
   "execution_count": 6,
   "metadata": {},
   "outputs": [
    {
     "data": {
      "text/html": [
       "<div>\n",
       "<style scoped>\n",
       "    .dataframe tbody tr th:only-of-type {\n",
       "        vertical-align: middle;\n",
       "    }\n",
       "\n",
       "    .dataframe tbody tr th {\n",
       "        vertical-align: top;\n",
       "    }\n",
       "\n",
       "    .dataframe thead th {\n",
       "        text-align: right;\n",
       "    }\n",
       "</style>\n",
       "<table border=\"1\" class=\"dataframe\">\n",
       "  <thead>\n",
       "    <tr style=\"text-align: right;\">\n",
       "      <th></th>\n",
       "      <th>file</th>\n",
       "      <th>message</th>\n",
       "    </tr>\n",
       "  </thead>\n",
       "  <tbody>\n",
       "    <tr>\n",
       "      <th>0</th>\n",
       "      <td>jones-t/sent/5567.</td>\n",
       "      <td>Message-ID: &lt;11629296.1075847544895.JavaMail.e...</td>\n",
       "    </tr>\n",
       "    <tr>\n",
       "      <th>1</th>\n",
       "      <td>hayslett-r/all_documents/134.</td>\n",
       "      <td>Message-ID: &lt;11398637.1075844279035.JavaMail.e...</td>\n",
       "    </tr>\n",
       "    <tr>\n",
       "      <th>2</th>\n",
       "      <td>taylor-m/all_documents/1477.</td>\n",
       "      <td>Message-ID: &lt;28378907.1075859912982.JavaMail.e...</td>\n",
       "    </tr>\n",
       "    <tr>\n",
       "      <th>3</th>\n",
       "      <td>lavorato-j/deleted_items/443.</td>\n",
       "      <td>Message-ID: &lt;30906538.1075861704525.JavaMail.e...</td>\n",
       "    </tr>\n",
       "    <tr>\n",
       "      <th>4</th>\n",
       "      <td>farmer-d/logistics/991.</td>\n",
       "      <td>Message-ID: &lt;2344701.1075854128586.JavaMail.ev...</td>\n",
       "    </tr>\n",
       "  </tbody>\n",
       "</table>\n",
       "</div>"
      ],
      "text/plain": [
       "                            file  \\\n",
       "0             jones-t/sent/5567.   \n",
       "1  hayslett-r/all_documents/134.   \n",
       "2   taylor-m/all_documents/1477.   \n",
       "3  lavorato-j/deleted_items/443.   \n",
       "4        farmer-d/logistics/991.   \n",
       "\n",
       "                                             message  \n",
       "0  Message-ID: <11629296.1075847544895.JavaMail.e...  \n",
       "1  Message-ID: <11398637.1075844279035.JavaMail.e...  \n",
       "2  Message-ID: <28378907.1075859912982.JavaMail.e...  \n",
       "3  Message-ID: <30906538.1075861704525.JavaMail.e...  \n",
       "4  Message-ID: <2344701.1075854128586.JavaMail.ev...  "
      ]
     },
     "execution_count": 6,
     "metadata": {},
     "output_type": "execute_result"
    }
   ],
   "source": [
    "import pandas as pd \n",
    "df = pd.read_csv(r\"D:\\test_jupyter\\work\\email.csv\")\n",
    "df.head()"
   ]
  },
  {
   "cell_type": "code",
   "execution_count": 10,
   "metadata": {},
   "outputs": [
    {
     "name": "stdout",
     "output_type": "stream",
     "text": [
      "True\n"
     ]
    }
   ],
   "source": [
    "# in ra message đàu tiên và so sánh chuỗi data với message đó\n",
    "data = '''Message-ID: <11629296.1075847544895.JavaMail.evans@thyme>\\nDate: Thu, 1 Feb 2001 08:00:00 -0800 (PST)\\nFrom: tana.jones@enron.com\\nTo: bob.bowen@enron.com, laurel.adams@enron.com, andrea.guillen@enron.com, \\n\\tlarry.hunter@enron.com, gordon.heaney@enron.com, \\n\\tjanie.aguayo@enron.com, derek.bailey@enron.com, \\n\\tdiane.anderson@enron.com, kevin.meredith@enron.com, \\n\\tscott.tackett@enron.com, celeste.cisneros@enron.com, \\n\\ttiffany.williams@enron.com, kim.theriot@enron.com, \\n\\tdianne.seib@enron.com, melissa.murphy@enron.com, \\n\\twilliam.bradford@enron.com, debbie.brackett@enron.com, \\n\\ttanya.rohauer@enron.com, brant.reves@enron.com, tracy.ngo@enron.com, \\n\\tlesli.campbell@enron.com, veronica.espinoza@enron.com, \\n\\tpaul.radous@enron.com, wendi.lebrocq@enron.com, \\n\\trussell.diamond@enron.com, tom.moran@enron.com, \\n\\tedward.sacks@enron.com, nidia.mendoza@enron.com, \\n\\tbradley.diebner@enron.com, wendy.conwell@enron.com, \\n\\tdarren.vanek@enron.com, rudwell.johnson@enron.com, \\n\\tbrent.hendry@enron.com, sara.shackleton@enron.com, \\n\\tmark.taylor@enron.com, carol.clair@enron.com, susan.bailey@enron.com, \\n\\tmary.cook@enron.com, samantha.boyd@enron.com, robert.bruce@enron.com, \\n\\tstephanie.panus@enron.com, frank.sayre@enron.com, \\n\\tcheryl.nelson@enron.com, francisco.leite@enron.com, \\n\\tmarilyn.colbert@enron.com, diane.ellstrom@enron.com, \\n\\tlynn.shivers@enron.com, bill.hare@enron.com, leslie.reeves@enron.com, \\n\\tjason.moore@enron.com, dianne.seib@enron.com, \\n\\tsamuel.schott@enron.com, anthony.campos@enron.com, \\n\\tbernice.rodriguez@enron.com, mary.gosnell@enron.com, \\n\\tdale.neuner@enron.com, karen.lambert@enron.com, \\n\\tfrank.davis@enron.com, carrie.southard@enron.com, \\n\\tamber.ebow@enron.com, adnan.patel@enron.com, \\n\\tmelissa.murphy@enron.com, stacey.richardson@enron.com, \\n\\tlisa.lees@enron.com, georgi.landau@enron.com, \\n\\tcheryl.johnson@enron.com\\nSubject: Deutsche Bank AG\\nCc: larry.gagliardi@enron.com, denis.o'connell@enron.com, \\n\\tmatthew.dawson@enron.com\\nMime-Version: 1.0\\nContent-Type: text/plain; charset=us-ascii\\nContent-Transfer-Encoding: 7bit\\nBcc: larry.gagliardi@enron.com, denis.o'connell@enron.com, \\n\\tmatthew.dawson@enron.com\\nX-From: Tana Jones\\nX-To: Bob Bowen, Laurel Adams, Andrea R Guillen, Larry Joe Hunter, Gordon Heaney, Janie Aguayo, Derek Bailey, Diane Anderson, Kevin Meredith, Scott Tackett, Celeste Cisneros, Tiffany Williams, Kim S Theriot, Dianne Seib, Melissa Ann Murphy, William S Bradford, Debbie R Brackett, Tanya Rohauer, Brant Reves, Tracy Ngo, Lesli Campbell, Veronica Espinoza, Paul Radous, Wendi LeBrocq, Russell Diamond, Tom Moran, Edward Sacks, Nidia Mendoza, Bradley Diebner, Wendy Conwell, Darren Vanek, Rudwell Johnson, Brent Hendry, Sara Shackleton, Mark Taylor, Carol St Clair, Susan Bailey, Mary Cook, Samantha Boyd, Robert Bruce, Stephanie Panus, Frank Sayre, Cheryl Nelson, Francisco Pinto Leite, Marilyn Colbert, Diane Ellstrom, Lynn E Shivers, Bill D Hare, Leslie Reeves, Jason Moore, Dianne Seib, Samuel Schott, Anthony Campos, Bernice Rodriguez, Mary G Gosnell, Dale Neuner, Karen Lambert, Frank L Davis, Carrie Southard, Amber Ebow, Adnan Patel, Melissa Ann Murphy, Stacey Richardson, Lisa Lees, Georgi Landau, Cheryl Johnson\\nX-cc: Larry Gagliardi, Denis O'Connell, Matthew Dawson\\nX-bcc: \\nX-Folder: \\\\Tanya_Jones_June2001\\\\Notes Folders\\\\Sent\\nX-Origin: JONES-T\\nX-FileName: tjones.nsf\\n\\nWe have received the following executed Master Agreement:\\n\\nType of Contract: ISDA Master Agreement (Multicurrency-Cross Border)\\n\\nEffective Date:  December 29, 2000\\n\\nEnron Entity:  Enron North America Corp.\\n\\nCounterparty:  Deutsche Bank AG\\n\\nTransactions Covered: Approved for all products, including FX \\n          \\nConfirming Entity: Deutsche Bank AG\\n\\nCalculation Agent: Deutsche Bank AG\\n\\nGoverning Law:  New York\\n\\nApproved Branches For\\nDeutsche Bank:  Brussels, Frankfurt, London, New York, Paris, Singapore, \\nSydney, Tokyo\\n\\nAgency Relationship: Deutsche Bank AG may act as Agent for Deutsche Bank \\nSecurities, if  they are specified as acting in such agency capacity in a \\nConfirmation.\\n\\nPAYMENT NETTING:   Cross transaction payment netting only applies to \\nCommodity Transactions.  There is no payment netting for non-commodity \\ntransactions.  '''\n",
    "\n",
    "\n",
    "# in ra message đàu tiên và so sánh chuỗi data với message đó\n",
    "\n",
    "print(df['message'][0] == data)\n",
    "\n"
   ]
  },
  {
   "cell_type": "code",
   "execution_count": null,
   "metadata": {},
   "outputs": [],
   "source": [
    "# 0.5đ\n",
    "\n",
    "# in ra message đàu tiên và so sánh chuỗi data với message đó\n",
    "data = '''Message-ID: <11629296.1075847544895.JavaMail.evans@thyme>\\nDate: Thu, 1 Feb 2001 08:00:00 -0800 (PST)\\nFrom: tana.jones@enron.com\\nTo: bob.bowen@enron.com, laurel.adams@enron.com, andrea.guillen@enron.com, \\n\\tlarry.hunter@enron.com, gordon.heaney@enron.com, \\n\\tjanie.aguayo@enron.com, derek.bailey@enron.com, \\n\\tdiane.anderson@enron.com, kevin.meredith@enron.com, \\n\\tscott.tackett@enron.com, celeste.cisneros@enron.com, \\n\\ttiffany.williams@enron.com, kim.theriot@enron.com, \\n\\tdianne.seib@enron.com, melissa.murphy@enron.com, \\n\\twilliam.bradford@enron.com, debbie.brackett@enron.com, \\n\\ttanya.rohauer@enron.com, brant.reves@enron.com, tracy.ngo@enron.com, \\n\\tlesli.campbell@enron.com, veronica.espinoza@enron.com, \\n\\tpaul.radous@enron.com, wendi.lebrocq@enron.com, \\n\\trussell.diamond@enron.com, tom.moran@enron.com, \\n\\tedward.sacks@enron.com, nidia.mendoza@enron.com, \\n\\tbradley.diebner@enron.com, wendy.conwell@enron.com, \\n\\tdarren.vanek@enron.com, rudwell.johnson@enron.com, \\n\\tbrent.hendry@enron.com, sara.shackleton@enron.com, \\n\\tmark.taylor@enron.com, carol.clair@enron.com, susan.bailey@enron.com, \\n\\tmary.cook@enron.com, samantha.boyd@enron.com, robert.bruce@enron.com, \\n\\tstephanie.panus@enron.com, frank.sayre@enron.com, \\n\\tcheryl.nelson@enron.com, francisco.leite@enron.com, \\n\\tmarilyn.colbert@enron.com, diane.ellstrom@enron.com, \\n\\tlynn.shivers@enron.com, bill.hare@enron.com, leslie.reeves@enron.com, \\n\\tjason.moore@enron.com, dianne.seib@enron.com, \\n\\tsamuel.schott@enron.com, anthony.campos@enron.com, \\n\\tbernice.rodriguez@enron.com, mary.gosnell@enron.com, \\n\\tdale.neuner@enron.com, karen.lambert@enron.com, \\n\\tfrank.davis@enron.com, carrie.southard@enron.com, \\n\\tamber.ebow@enron.com, adnan.patel@enron.com, \\n\\tmelissa.murphy@enron.com, stacey.richardson@enron.com, \\n\\tlisa.lees@enron.com, georgi.landau@enron.com, \\n\\tcheryl.johnson@enron.com\\nSubject: Deutsche Bank AG\\nCc: larry.gagliardi@enron.com, denis.o'connell@enron.com, \\n\\tmatthew.dawson@enron.com\\nMime-Version: 1.0\\nContent-Type: text/plain; charset=us-ascii\\nContent-Transfer-Encoding: 7bit\\nBcc: larry.gagliardi@enron.com, denis.o'connell@enron.com, \\n\\tmatthew.dawson@enron.com\\nX-From: Tana Jones\\nX-To: Bob Bowen, Laurel Adams, Andrea R Guillen, Larry Joe Hunter, Gordon Heaney, Janie Aguayo, Derek Bailey, Diane Anderson, Kevin Meredith, Scott Tackett, Celeste Cisneros, Tiffany Williams, Kim S Theriot, Dianne Seib, Melissa Ann Murphy, William S Bradford, Debbie R Brackett, Tanya Rohauer, Brant Reves, Tracy Ngo, Lesli Campbell, Veronica Espinoza, Paul Radous, Wendi LeBrocq, Russell Diamond, Tom Moran, Edward Sacks, Nidia Mendoza, Bradley Diebner, Wendy Conwell, Darren Vanek, Rudwell Johnson, Brent Hendry, Sara Shackleton, Mark Taylor, Carol St Clair, Susan Bailey, Mary Cook, Samantha Boyd, Robert Bruce, Stephanie Panus, Frank Sayre, Cheryl Nelson, Francisco Pinto Leite, Marilyn Colbert, Diane Ellstrom, Lynn E Shivers, Bill D Hare, Leslie Reeves, Jason Moore, Dianne Seib, Samuel Schott, Anthony Campos, Bernice Rodriguez, Mary G Gosnell, Dale Neuner, Karen Lambert, Frank L Davis, Carrie Southard, Amber Ebow, Adnan Patel, Melissa Ann Murphy, Stacey Richardson, Lisa Lees, Georgi Landau, Cheryl Johnson\\nX-cc: Larry Gagliardi, Denis O'Connell, Matthew Dawson\\nX-bcc: \\nX-Folder: \\\\Tanya_Jones_June2001\\\\Notes Folders\\\\Sent\\nX-Origin: JONES-T\\nX-FileName: tjones.nsf\\n\\nWe have received the following executed Master Agreement:\\n\\nType of Contract: ISDA Master Agreement (Multicurrency-Cross Border)\\n\\nEffective Date:  December 29, 2000\\n\\nEnron Entity:  Enron North America Corp.\\n\\nCounterparty:  Deutsche Bank AG\\n\\nTransactions Covered: Approved for all products, including FX \\n          \\nConfirming Entity: Deutsche Bank AG\\n\\nCalculation Agent: Deutsche Bank AG\\n\\nGoverning Law:  New York\\n\\nApproved Branches For\\nDeutsche Bank:  Brussels, Frankfurt, London, New York, Paris, Singapore, \\nSydney, Tokyo\\n\\nAgency Relationship: Deutsche Bank AG may act as Agent for Deutsche Bank \\nSecurities, if  they are specified as acting in such agency capacity in a \\nConfirmation.\\n\\nPAYMENT NETTING:   Cross transaction payment netting only applies to \\nCommodity Transactions.  There is no payment netting for non-commodity \\ntransactions.  '''\n",
    "\n",
    "\n",
    "# in ra message đàu tiên và so sánh chuỗi data với message đó\n",
    "\n",
    "print(df['message'][0] == data)\n",
    "def createRDD(data: DataFrame)->RDD[Row]:\n",
    "    '''\n",
    "    This function converts a Spark DataFrame into an RDD of Rows.\n",
    "    \n",
    "    Args:\n",
    "        data (DataFrame): Input DataFrame containing data loaded by Spark.\n",
    "        \n",
    "    Returns:\n",
    "        RDD[Row]: An RDD containing all Rows from the input DataFrame.\n",
    "    '''\n",
    "    outRDD = None\n",
    "\n",
    "    # YOUR CODE HERE\n",
    "    \n",
    "    return outRDD\n",
    "\n"
   ]
  },
  {
   "cell_type": "code",
   "execution_count": null,
   "metadata": {},
   "outputs": [],
   "source": []
  }
 ],
 "metadata": {
  "kernelspec": {
   "display_name": "Python 3 (ipykernel)",
   "language": "python",
   "name": "python3"
  },
  "language_info": {
   "codemirror_mode": {
    "name": "ipython",
    "version": 3
   },
   "file_extension": ".py",
   "mimetype": "text/x-python",
   "name": "python",
   "nbconvert_exporter": "python",
   "pygments_lexer": "ipython3",
   "version": "3.11.6"
  }
 },
 "nbformat": 4,
 "nbformat_minor": 4
}
